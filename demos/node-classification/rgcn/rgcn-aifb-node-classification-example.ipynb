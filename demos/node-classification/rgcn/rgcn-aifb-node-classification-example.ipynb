{
 "cells": [
  {
   "cell_type": "markdown",
   "metadata": {},
   "source": [
    "# Stellargraph example: Relational Graph Convolutional Network (RGCN) on the AIFB relational dataset\n",
    "\n",
    "This example demonstrates how use an RGCN [1] on the AIFB dataset with stellargraph. This dataset can be downloaded [here](https://figshare.com/articles/AIFB_DataSet/745364). \n",
    "\n",
    "The following is a description of the dataset:\n",
    "\n",
    ">The AIFB dataset describes the AIFB research institute in terms of its staff, research group, and publications. In (Bloehdorn et al 2007) the dataset was first used to predict the affiliation (i.e., research group) for people in the dataset. The dataset contains 178 members of a research group, however the smallest group contains only 4 people, so this one is removed from the dataset, leaving 4 classes.\n",
    "\n",
    "The goal is to predict which research group a researcher belongs to.\n",
    "\n",
    "[1] Modeling Relational Data with Graph Convolutional Networks. Thomas N. Kipf, Michael Schlichtkrull (2017). https://arxiv.org/pdf/1703.06103.pdf"
   ]
  },
  {
   "cell_type": "markdown",
   "metadata": {},
   "source": [
    "First we load the required libraries."
   ]
  },
  {
   "cell_type": "code",
   "execution_count": 21,
   "metadata": {},
   "outputs": [],
   "source": [
    "from rdflib.extras.external_graph_libs import *\n",
    "from rdflib import Graph, URIRef, Literal\n",
    "\n",
    "import networkx as nx\n",
    "from networkx.classes.function import info\n",
    "\n",
    "import stellargraph as sg\n",
    "from stellargraph.mapper.node_mappers import RelationalFullBatchNodeGenerator\n",
    "from stellargraph.layer import RGCN\n",
    "\n",
    "import numpy as np\n",
    "import matplotlib.pyplot as plt\n",
    "import os\n",
    "import pandas as pd\n",
    "\n",
    "import tensorflow as tf\n",
    "from tensorflow import keras\n",
    "from tensorflow.keras.layers import Dense\n",
    "from tensorflow.keras.models import Model\n",
    "\n",
    "import sklearn\n",
    "from sklearn import model_selection\n",
    "from collections import Counter"
   ]
  },
  {
   "cell_type": "markdown",
   "metadata": {},
   "source": [
    "## Loading the data\n",
    "\n",
    "We use rdf to load the relational dataset into a networkx directed multigraph. Relational datasets are inherently direct with multiple edges types so we use the MultiDiGraph datastructure to capture this information.\n",
    "\n",
    "The relationship 'affilition' indicates whether a researcher is affiliated with a reseach group e.g. (researcher, research group, affilliation). We use this relationship to label the nodes in a dataset.  After this we remove the affilliation relationship. The idea here is to test whether we can recover a 'missing' relationship. \n",
    "\n",
    "The relation 'employs' is the inverse of 'affilliation' and we remove this as well - otherwise it would give away the answer."
   ]
  },
  {
   "cell_type": "code",
   "execution_count": 3,
   "metadata": {},
   "outputs": [],
   "source": [
    "data_filepath = os.path.expanduser(os.path.join(\"~\", \"data\", \"aifbfixed_complete.n3\"))\n",
    "\n",
    "graph = Graph()\n",
    "graph.parse(data_filepath, format='n3')\n",
    "g_nx = rdflib_to_networkx_multidigraph(graph)\n",
    "\n",
    "affiliation = 'http://swrc.ontoware.org/ontology#affiliation'\n",
    "employs = 'http://swrc.ontoware.org/ontology#employs'\n",
    "\n",
    "\n",
    "people_nodes = [e[0] for e in g_nx.edges if (str(e[-1]) == affiliation)] # the node ids of the researches\n",
    "labels = [e[1] for e in g_nx.edges if (str(e[-1]) == affiliation)] # the research group each researcher belongs to\n",
    "\n",
    "# remove 'affiliation' and 'employs' relationships\n",
    "edges_to_remove = [e for e in g_nx.edges if (str(e[-1]) == affiliation) or ((str(e[-1]) == employs))]\n",
    "g_nx.remove_edges_from(edges_to_remove)"
   ]
  },
  {
   "cell_type": "markdown",
   "metadata": {},
   "source": [
    "## Feature and target creation\n",
    "\n",
    "We now create features and targets for machine learning.  Our nodes don't have features so we simply one-hot-encode each node and use there as our featurres to allow our model to learn from the graph structure."
   ]
  },
  {
   "cell_type": "code",
   "execution_count": 5,
   "metadata": {},
   "outputs": [],
   "source": [
    "# create an encoder\n",
    "encoder = sklearn.preprocessing.OneHotEncoder(sparse=False)\n",
    "\n",
    "# create targets\n",
    "# targets of researchers is a one hot encoded vector indicating which research group they belong to\n",
    "# targets of non-researcher entities are set to zero vectors \n",
    "# (we're not interested in predicting anything about non-researcher node)\n",
    "\n",
    "node_index = dict(zip(g_nx.nodes, range(len(g_nx.nodes))))\n",
    "people_idx = np.array([node_index[node] for node in people_nodes])\n",
    "\n",
    "people_targets = encoder.fit_transform(np.array(labels)[:, np.newaxis])\n",
    "\n",
    "targets = np.zeros((len(g_nx.nodes), people_targets.shape[-1]))\n",
    "targets[people_idx, :] = people_targets\n",
    "\n",
    "# one-hot-encode the nodes to use a features for ML and store in a pandas array\n",
    "encoder = sklearn.preprocessing.OneHotEncoder(sparse=False)\n",
    "node_data = pd.DataFrame(encoder.fit_transform(np.array(list(g_nx.nodes))[:, np.newaxis]), index=g_nx.nodes)\n",
    "targets = pd.DataFrame(targets, index=g_nx.nodes)\n",
    "\n",
    "# split data into train and test\n",
    "train_data, test_data, train_targets, test_targets = model_selection.train_test_split(\n",
    "    node_data.loc[people_nodes], targets.loc[people_nodes], train_size=0.8, test_size=None\n",
    ")"
   ]
  },
  {
   "cell_type": "markdown",
   "metadata": {},
   "source": [
    "## Machine Learning Graph Creation\n",
    "\n",
    "Now we create a StellarDiGraph object to encapsulate the graph structure and the node features.  We'll then use the StellarDiGraph to create training and testing generators for ML."
   ]
  },
  {
   "cell_type": "code",
   "execution_count": 6,
   "metadata": {},
   "outputs": [],
   "source": [
    "G = sg.StellarDiGraph(\n",
    "    g_nx, node_features=node_data\n",
    ")"
   ]
  },
  {
   "cell_type": "code",
   "execution_count": 15,
   "metadata": {},
   "outputs": [
    {
     "name": "stderr",
     "output_type": "stream",
     "text": [
      "/Users/kieranricardo/PycharmProjects/origin-stellargaph/stellargraph/stellargraph/core/utils.py:51: RuntimeWarning: divide by zero encountered in float_power\n",
      "  d = sp.diags(np.float_power(np.array(adj.sum(1)), -1).flatten(), 0)\n",
      "/Users/kieranricardo/PycharmProjects/origin-stellargaph/stellargraph/stellargraph/core/utils.py:51: RuntimeWarning: divide by zero encountered in float_power\n",
      "  d = sp.diags(np.float_power(np.array(adj.sum(1)), -1).flatten(), 0)\n",
      "/Users/kieranricardo/PycharmProjects/origin-stellargaph/stellargraph/stellargraph/core/utils.py:51: RuntimeWarning: divide by zero encountered in float_power\n",
      "  d = sp.diags(np.float_power(np.array(adj.sum(1)), -1).flatten(), 0)\n",
      "/Users/kieranricardo/PycharmProjects/origin-stellargaph/stellargraph/stellargraph/core/utils.py:51: RuntimeWarning: divide by zero encountered in float_power\n",
      "  d = sp.diags(np.float_power(np.array(adj.sum(1)), -1).flatten(), 0)\n",
      "/Users/kieranricardo/PycharmProjects/origin-stellargaph/stellargraph/stellargraph/core/utils.py:51: RuntimeWarning: divide by zero encountered in float_power\n",
      "  d = sp.diags(np.float_power(np.array(adj.sum(1)), -1).flatten(), 0)\n",
      "/Users/kieranricardo/PycharmProjects/origin-stellargaph/stellargraph/stellargraph/core/utils.py:51: RuntimeWarning: divide by zero encountered in float_power\n",
      "  d = sp.diags(np.float_power(np.array(adj.sum(1)), -1).flatten(), 0)\n",
      "/Users/kieranricardo/PycharmProjects/origin-stellargaph/stellargraph/stellargraph/core/utils.py:51: RuntimeWarning: divide by zero encountered in float_power\n",
      "  d = sp.diags(np.float_power(np.array(adj.sum(1)), -1).flatten(), 0)\n",
      "/Users/kieranricardo/PycharmProjects/origin-stellargaph/stellargraph/stellargraph/core/utils.py:51: RuntimeWarning: divide by zero encountered in float_power\n",
      "  d = sp.diags(np.float_power(np.array(adj.sum(1)), -1).flatten(), 0)\n",
      "/Users/kieranricardo/PycharmProjects/origin-stellargaph/stellargraph/stellargraph/core/utils.py:51: RuntimeWarning: divide by zero encountered in float_power\n",
      "  d = sp.diags(np.float_power(np.array(adj.sum(1)), -1).flatten(), 0)\n",
      "/Users/kieranricardo/PycharmProjects/origin-stellargaph/stellargraph/stellargraph/core/utils.py:51: RuntimeWarning: divide by zero encountered in float_power\n",
      "  d = sp.diags(np.float_power(np.array(adj.sum(1)), -1).flatten(), 0)\n",
      "/Users/kieranricardo/PycharmProjects/origin-stellargaph/stellargraph/stellargraph/core/utils.py:51: RuntimeWarning: divide by zero encountered in float_power\n",
      "  d = sp.diags(np.float_power(np.array(adj.sum(1)), -1).flatten(), 0)\n",
      "/Users/kieranricardo/PycharmProjects/origin-stellargaph/stellargraph/stellargraph/core/utils.py:51: RuntimeWarning: divide by zero encountered in float_power\n",
      "  d = sp.diags(np.float_power(np.array(adj.sum(1)), -1).flatten(), 0)\n",
      "/Users/kieranricardo/PycharmProjects/origin-stellargaph/stellargraph/stellargraph/core/utils.py:51: RuntimeWarning: divide by zero encountered in float_power\n",
      "  d = sp.diags(np.float_power(np.array(adj.sum(1)), -1).flatten(), 0)\n",
      "/Users/kieranricardo/PycharmProjects/origin-stellargaph/stellargraph/stellargraph/core/utils.py:51: RuntimeWarning: divide by zero encountered in float_power\n",
      "  d = sp.diags(np.float_power(np.array(adj.sum(1)), -1).flatten(), 0)\n",
      "/Users/kieranricardo/PycharmProjects/origin-stellargaph/stellargraph/stellargraph/core/utils.py:51: RuntimeWarning: divide by zero encountered in float_power\n",
      "  d = sp.diags(np.float_power(np.array(adj.sum(1)), -1).flatten(), 0)\n",
      "/Users/kieranricardo/PycharmProjects/origin-stellargaph/stellargraph/stellargraph/core/utils.py:51: RuntimeWarning: divide by zero encountered in float_power\n",
      "  d = sp.diags(np.float_power(np.array(adj.sum(1)), -1).flatten(), 0)\n",
      "/Users/kieranricardo/PycharmProjects/origin-stellargaph/stellargraph/stellargraph/core/utils.py:51: RuntimeWarning: divide by zero encountered in float_power\n",
      "  d = sp.diags(np.float_power(np.array(adj.sum(1)), -1).flatten(), 0)\n",
      "/Users/kieranricardo/PycharmProjects/origin-stellargaph/stellargraph/stellargraph/core/utils.py:51: RuntimeWarning: divide by zero encountered in float_power\n",
      "  d = sp.diags(np.float_power(np.array(adj.sum(1)), -1).flatten(), 0)\n",
      "/Users/kieranricardo/PycharmProjects/origin-stellargaph/stellargraph/stellargraph/core/utils.py:51: RuntimeWarning: divide by zero encountered in float_power\n",
      "  d = sp.diags(np.float_power(np.array(adj.sum(1)), -1).flatten(), 0)\n",
      "/Users/kieranricardo/PycharmProjects/origin-stellargaph/stellargraph/stellargraph/core/utils.py:51: RuntimeWarning: divide by zero encountered in float_power\n",
      "  d = sp.diags(np.float_power(np.array(adj.sum(1)), -1).flatten(), 0)\n",
      "/Users/kieranricardo/PycharmProjects/origin-stellargaph/stellargraph/stellargraph/core/utils.py:51: RuntimeWarning: divide by zero encountered in float_power\n",
      "  d = sp.diags(np.float_power(np.array(adj.sum(1)), -1).flatten(), 0)\n",
      "/Users/kieranricardo/PycharmProjects/origin-stellargaph/stellargraph/stellargraph/core/utils.py:51: RuntimeWarning: divide by zero encountered in float_power\n",
      "  d = sp.diags(np.float_power(np.array(adj.sum(1)), -1).flatten(), 0)\n",
      "/Users/kieranricardo/PycharmProjects/origin-stellargaph/stellargraph/stellargraph/core/utils.py:51: RuntimeWarning: divide by zero encountered in float_power\n",
      "  d = sp.diags(np.float_power(np.array(adj.sum(1)), -1).flatten(), 0)\n",
      "/Users/kieranricardo/PycharmProjects/origin-stellargaph/stellargraph/stellargraph/core/utils.py:51: RuntimeWarning: divide by zero encountered in float_power\n",
      "  d = sp.diags(np.float_power(np.array(adj.sum(1)), -1).flatten(), 0)\n",
      "/Users/kieranricardo/PycharmProjects/origin-stellargaph/stellargraph/stellargraph/core/utils.py:51: RuntimeWarning: divide by zero encountered in float_power\n",
      "  d = sp.diags(np.float_power(np.array(adj.sum(1)), -1).flatten(), 0)\n",
      "/Users/kieranricardo/PycharmProjects/origin-stellargaph/stellargraph/stellargraph/core/utils.py:51: RuntimeWarning: divide by zero encountered in float_power\n",
      "  d = sp.diags(np.float_power(np.array(adj.sum(1)), -1).flatten(), 0)\n",
      "/Users/kieranricardo/PycharmProjects/origin-stellargaph/stellargraph/stellargraph/core/utils.py:51: RuntimeWarning: divide by zero encountered in float_power\n",
      "  d = sp.diags(np.float_power(np.array(adj.sum(1)), -1).flatten(), 0)\n",
      "/Users/kieranricardo/PycharmProjects/origin-stellargaph/stellargraph/stellargraph/core/utils.py:51: RuntimeWarning: divide by zero encountered in float_power\n",
      "  d = sp.diags(np.float_power(np.array(adj.sum(1)), -1).flatten(), 0)\n",
      "/Users/kieranricardo/PycharmProjects/origin-stellargaph/stellargraph/stellargraph/core/utils.py:51: RuntimeWarning: divide by zero encountered in float_power\n",
      "  d = sp.diags(np.float_power(np.array(adj.sum(1)), -1).flatten(), 0)\n",
      "/Users/kieranricardo/PycharmProjects/origin-stellargaph/stellargraph/stellargraph/core/utils.py:51: RuntimeWarning: divide by zero encountered in float_power\n",
      "  d = sp.diags(np.float_power(np.array(adj.sum(1)), -1).flatten(), 0)\n",
      "/Users/kieranricardo/PycharmProjects/origin-stellargaph/stellargraph/stellargraph/core/utils.py:51: RuntimeWarning: divide by zero encountered in float_power\n",
      "  d = sp.diags(np.float_power(np.array(adj.sum(1)), -1).flatten(), 0)\n",
      "/Users/kieranricardo/PycharmProjects/origin-stellargaph/stellargraph/stellargraph/core/utils.py:51: RuntimeWarning: divide by zero encountered in float_power\n",
      "  d = sp.diags(np.float_power(np.array(adj.sum(1)), -1).flatten(), 0)\n",
      "/Users/kieranricardo/PycharmProjects/origin-stellargaph/stellargraph/stellargraph/core/utils.py:51: RuntimeWarning: divide by zero encountered in float_power\n",
      "  d = sp.diags(np.float_power(np.array(adj.sum(1)), -1).flatten(), 0)\n",
      "/Users/kieranricardo/PycharmProjects/origin-stellargaph/stellargraph/stellargraph/core/utils.py:51: RuntimeWarning: divide by zero encountered in float_power\n",
      "  d = sp.diags(np.float_power(np.array(adj.sum(1)), -1).flatten(), 0)\n",
      "/Users/kieranricardo/PycharmProjects/origin-stellargaph/stellargraph/stellargraph/core/utils.py:51: RuntimeWarning: divide by zero encountered in float_power\n",
      "  d = sp.diags(np.float_power(np.array(adj.sum(1)), -1).flatten(), 0)\n",
      "/Users/kieranricardo/PycharmProjects/origin-stellargaph/stellargraph/stellargraph/core/utils.py:51: RuntimeWarning: divide by zero encountered in float_power\n",
      "  d = sp.diags(np.float_power(np.array(adj.sum(1)), -1).flatten(), 0)\n"
     ]
    },
    {
     "name": "stderr",
     "output_type": "stream",
     "text": [
      "/Users/kieranricardo/PycharmProjects/origin-stellargaph/stellargraph/stellargraph/core/utils.py:51: RuntimeWarning: divide by zero encountered in float_power\n",
      "  d = sp.diags(np.float_power(np.array(adj.sum(1)), -1).flatten(), 0)\n",
      "/Users/kieranricardo/PycharmProjects/origin-stellargaph/stellargraph/stellargraph/core/utils.py:51: RuntimeWarning: divide by zero encountered in float_power\n",
      "  d = sp.diags(np.float_power(np.array(adj.sum(1)), -1).flatten(), 0)\n",
      "/Users/kieranricardo/PycharmProjects/origin-stellargaph/stellargraph/stellargraph/core/utils.py:51: RuntimeWarning: divide by zero encountered in float_power\n",
      "  d = sp.diags(np.float_power(np.array(adj.sum(1)), -1).flatten(), 0)\n",
      "/Users/kieranricardo/PycharmProjects/origin-stellargaph/stellargraph/stellargraph/core/utils.py:51: RuntimeWarning: divide by zero encountered in float_power\n",
      "  d = sp.diags(np.float_power(np.array(adj.sum(1)), -1).flatten(), 0)\n",
      "/Users/kieranricardo/PycharmProjects/origin-stellargaph/stellargraph/stellargraph/core/utils.py:51: RuntimeWarning: divide by zero encountered in float_power\n",
      "  d = sp.diags(np.float_power(np.array(adj.sum(1)), -1).flatten(), 0)\n",
      "/Users/kieranricardo/PycharmProjects/origin-stellargaph/stellargraph/stellargraph/core/utils.py:51: RuntimeWarning: divide by zero encountered in float_power\n",
      "  d = sp.diags(np.float_power(np.array(adj.sum(1)), -1).flatten(), 0)\n",
      "/Users/kieranricardo/PycharmProjects/origin-stellargaph/stellargraph/stellargraph/core/utils.py:51: RuntimeWarning: divide by zero encountered in float_power\n",
      "  d = sp.diags(np.float_power(np.array(adj.sum(1)), -1).flatten(), 0)\n",
      "/Users/kieranricardo/PycharmProjects/origin-stellargaph/stellargraph/stellargraph/core/utils.py:51: RuntimeWarning: divide by zero encountered in float_power\n",
      "  d = sp.diags(np.float_power(np.array(adj.sum(1)), -1).flatten(), 0)\n",
      "/Users/kieranricardo/PycharmProjects/origin-stellargaph/stellargraph/stellargraph/core/utils.py:51: RuntimeWarning: divide by zero encountered in float_power\n",
      "  d = sp.diags(np.float_power(np.array(adj.sum(1)), -1).flatten(), 0)\n"
     ]
    }
   ],
   "source": [
    "generator = RelationalFullBatchNodeGenerator(G, sparse=True)\n",
    "\n",
    "train_gen = generator.flow(train_data.index, targets=train_targets)\n",
    "test_gen = generator.flow(test_data.index, targets=test_targets)"
   ]
  },
  {
   "cell_type": "markdown",
   "metadata": {},
   "source": [
    "## RGCN model creation and training\n",
    "\n",
    "We use stellargraph to create an RGCN object. This creates a stack of relation graph convolutional layers. We add a softmax layer to transform the features created RGCN into class predictions and create a keras mode.  Then we train the model on the stellargraph generators."
   ]
  },
  {
   "cell_type": "code",
   "execution_count": 22,
   "metadata": {},
   "outputs": [],
   "source": [
    "rgcn = RGCN(\n",
    "    layer_sizes=[16, 16], \n",
    "    activations=['relu', 'relu'],\n",
    "    generator=generator, \n",
    "    bias=True,\n",
    "    num_bases=10, \n",
    "    dropout=0.5,\n",
    ")"
   ]
  },
  {
   "cell_type": "code",
   "execution_count": 25,
   "metadata": {},
   "outputs": [
    {
     "name": "stdout",
     "output_type": "stream",
     "text": [
      "WARNING:tensorflow:Entity <bound method SqueezedSparseConversion.call of <stellargraph.layer.misc.SqueezedSparseConversion object at 0x13e731b00>> could not be transformed and will be executed as-is. Please report this to the AutgoGraph team. When filing the bug, set the verbosity to 10 (on Linux, `export AUTOGRAPH_VERBOSITY=10`) and attach the full output. Cause: converting <bound method SqueezedSparseConversion.call of <stellargraph.layer.misc.SqueezedSparseConversion object at 0x13e731b00>>: AttributeError: module 'gast' has no attribute 'Num'\n",
      "WARNING: Entity <bound method SqueezedSparseConversion.call of <stellargraph.layer.misc.SqueezedSparseConversion object at 0x13e731b00>> could not be transformed and will be executed as-is. Please report this to the AutgoGraph team. When filing the bug, set the verbosity to 10 (on Linux, `export AUTOGRAPH_VERBOSITY=10`) and attach the full output. Cause: converting <bound method SqueezedSparseConversion.call of <stellargraph.layer.misc.SqueezedSparseConversion object at 0x13e731b00>>: AttributeError: module 'gast' has no attribute 'Num'\n",
      "WARNING:tensorflow:Entity <bound method SqueezedSparseConversion.call of <stellargraph.layer.misc.SqueezedSparseConversion object at 0x13e731eb8>> could not be transformed and will be executed as-is. Please report this to the AutgoGraph team. When filing the bug, set the verbosity to 10 (on Linux, `export AUTOGRAPH_VERBOSITY=10`) and attach the full output. Cause: converting <bound method SqueezedSparseConversion.call of <stellargraph.layer.misc.SqueezedSparseConversion object at 0x13e731eb8>>: AttributeError: module 'gast' has no attribute 'Num'\n",
      "WARNING: Entity <bound method SqueezedSparseConversion.call of <stellargraph.layer.misc.SqueezedSparseConversion object at 0x13e731eb8>> could not be transformed and will be executed as-is. Please report this to the AutgoGraph team. When filing the bug, set the verbosity to 10 (on Linux, `export AUTOGRAPH_VERBOSITY=10`) and attach the full output. Cause: converting <bound method SqueezedSparseConversion.call of <stellargraph.layer.misc.SqueezedSparseConversion object at 0x13e731eb8>>: AttributeError: module 'gast' has no attribute 'Num'\n",
      "WARNING:tensorflow:Entity <bound method SqueezedSparseConversion.call of <stellargraph.layer.misc.SqueezedSparseConversion object at 0x13e2796d8>> could not be transformed and will be executed as-is. Please report this to the AutgoGraph team. When filing the bug, set the verbosity to 10 (on Linux, `export AUTOGRAPH_VERBOSITY=10`) and attach the full output. Cause: converting <bound method SqueezedSparseConversion.call of <stellargraph.layer.misc.SqueezedSparseConversion object at 0x13e2796d8>>: AttributeError: module 'gast' has no attribute 'Num'\n",
      "WARNING: Entity <bound method SqueezedSparseConversion.call of <stellargraph.layer.misc.SqueezedSparseConversion object at 0x13e2796d8>> could not be transformed and will be executed as-is. Please report this to the AutgoGraph team. When filing the bug, set the verbosity to 10 (on Linux, `export AUTOGRAPH_VERBOSITY=10`) and attach the full output. Cause: converting <bound method SqueezedSparseConversion.call of <stellargraph.layer.misc.SqueezedSparseConversion object at 0x13e2796d8>>: AttributeError: module 'gast' has no attribute 'Num'\n",
      "WARNING:tensorflow:Entity <bound method SqueezedSparseConversion.call of <stellargraph.layer.misc.SqueezedSparseConversion object at 0x13e741710>> could not be transformed and will be executed as-is. Please report this to the AutgoGraph team. When filing the bug, set the verbosity to 10 (on Linux, `export AUTOGRAPH_VERBOSITY=10`) and attach the full output. Cause: converting <bound method SqueezedSparseConversion.call of <stellargraph.layer.misc.SqueezedSparseConversion object at 0x13e741710>>: AttributeError: module 'gast' has no attribute 'Num'\n",
      "WARNING: Entity <bound method SqueezedSparseConversion.call of <stellargraph.layer.misc.SqueezedSparseConversion object at 0x13e741710>> could not be transformed and will be executed as-is. Please report this to the AutgoGraph team. When filing the bug, set the verbosity to 10 (on Linux, `export AUTOGRAPH_VERBOSITY=10`) and attach the full output. Cause: converting <bound method SqueezedSparseConversion.call of <stellargraph.layer.misc.SqueezedSparseConversion object at 0x13e741710>>: AttributeError: module 'gast' has no attribute 'Num'\n",
      "WARNING:tensorflow:Entity <bound method SqueezedSparseConversion.call of <stellargraph.layer.misc.SqueezedSparseConversion object at 0x13e75f358>> could not be transformed and will be executed as-is. Please report this to the AutgoGraph team. When filing the bug, set the verbosity to 10 (on Linux, `export AUTOGRAPH_VERBOSITY=10`) and attach the full output. Cause: converting <bound method SqueezedSparseConversion.call of <stellargraph.layer.misc.SqueezedSparseConversion object at 0x13e75f358>>: AttributeError: module 'gast' has no attribute 'Num'\n",
      "WARNING: Entity <bound method SqueezedSparseConversion.call of <stellargraph.layer.misc.SqueezedSparseConversion object at 0x13e75f358>> could not be transformed and will be executed as-is. Please report this to the AutgoGraph team. When filing the bug, set the verbosity to 10 (on Linux, `export AUTOGRAPH_VERBOSITY=10`) and attach the full output. Cause: converting <bound method SqueezedSparseConversion.call of <stellargraph.layer.misc.SqueezedSparseConversion object at 0x13e75f358>>: AttributeError: module 'gast' has no attribute 'Num'\n",
      "WARNING:tensorflow:Entity <bound method SqueezedSparseConversion.call of <stellargraph.layer.misc.SqueezedSparseConversion object at 0x13e75f908>> could not be transformed and will be executed as-is. Please report this to the AutgoGraph team. When filing the bug, set the verbosity to 10 (on Linux, `export AUTOGRAPH_VERBOSITY=10`) and attach the full output. Cause: converting <bound method SqueezedSparseConversion.call of <stellargraph.layer.misc.SqueezedSparseConversion object at 0x13e75f908>>: AttributeError: module 'gast' has no attribute 'Num'\n",
      "WARNING: Entity <bound method SqueezedSparseConversion.call of <stellargraph.layer.misc.SqueezedSparseConversion object at 0x13e75f908>> could not be transformed and will be executed as-is. Please report this to the AutgoGraph team. When filing the bug, set the verbosity to 10 (on Linux, `export AUTOGRAPH_VERBOSITY=10`) and attach the full output. Cause: converting <bound method SqueezedSparseConversion.call of <stellargraph.layer.misc.SqueezedSparseConversion object at 0x13e75f908>>: AttributeError: module 'gast' has no attribute 'Num'\n",
      "WARNING:tensorflow:Entity <bound method SqueezedSparseConversion.call of <stellargraph.layer.misc.SqueezedSparseConversion object at 0x13e75f940>> could not be transformed and will be executed as-is. Please report this to the AutgoGraph team. When filing the bug, set the verbosity to 10 (on Linux, `export AUTOGRAPH_VERBOSITY=10`) and attach the full output. Cause: converting <bound method SqueezedSparseConversion.call of <stellargraph.layer.misc.SqueezedSparseConversion object at 0x13e75f940>>: AttributeError: module 'gast' has no attribute 'Num'\n",
      "WARNING: Entity <bound method SqueezedSparseConversion.call of <stellargraph.layer.misc.SqueezedSparseConversion object at 0x13e75f940>> could not be transformed and will be executed as-is. Please report this to the AutgoGraph team. When filing the bug, set the verbosity to 10 (on Linux, `export AUTOGRAPH_VERBOSITY=10`) and attach the full output. Cause: converting <bound method SqueezedSparseConversion.call of <stellargraph.layer.misc.SqueezedSparseConversion object at 0x13e75f940>>: AttributeError: module 'gast' has no attribute 'Num'\n",
      "WARNING:tensorflow:Entity <bound method SqueezedSparseConversion.call of <stellargraph.layer.misc.SqueezedSparseConversion object at 0x13e75fd68>> could not be transformed and will be executed as-is. Please report this to the AutgoGraph team. When filing the bug, set the verbosity to 10 (on Linux, `export AUTOGRAPH_VERBOSITY=10`) and attach the full output. Cause: converting <bound method SqueezedSparseConversion.call of <stellargraph.layer.misc.SqueezedSparseConversion object at 0x13e75fd68>>: AttributeError: module 'gast' has no attribute 'Num'\n"
     ]
    },
    {
     "name": "stdout",
     "output_type": "stream",
     "text": [
      "WARNING: Entity <bound method SqueezedSparseConversion.call of <stellargraph.layer.misc.SqueezedSparseConversion object at 0x13e75fd68>> could not be transformed and will be executed as-is. Please report this to the AutgoGraph team. When filing the bug, set the verbosity to 10 (on Linux, `export AUTOGRAPH_VERBOSITY=10`) and attach the full output. Cause: converting <bound method SqueezedSparseConversion.call of <stellargraph.layer.misc.SqueezedSparseConversion object at 0x13e75fd68>>: AttributeError: module 'gast' has no attribute 'Num'\n",
      "WARNING:tensorflow:Entity <bound method SqueezedSparseConversion.call of <stellargraph.layer.misc.SqueezedSparseConversion object at 0x13e741a90>> could not be transformed and will be executed as-is. Please report this to the AutgoGraph team. When filing the bug, set the verbosity to 10 (on Linux, `export AUTOGRAPH_VERBOSITY=10`) and attach the full output. Cause: converting <bound method SqueezedSparseConversion.call of <stellargraph.layer.misc.SqueezedSparseConversion object at 0x13e741a90>>: AttributeError: module 'gast' has no attribute 'Num'\n",
      "WARNING: Entity <bound method SqueezedSparseConversion.call of <stellargraph.layer.misc.SqueezedSparseConversion object at 0x13e741a90>> could not be transformed and will be executed as-is. Please report this to the AutgoGraph team. When filing the bug, set the verbosity to 10 (on Linux, `export AUTOGRAPH_VERBOSITY=10`) and attach the full output. Cause: converting <bound method SqueezedSparseConversion.call of <stellargraph.layer.misc.SqueezedSparseConversion object at 0x13e741a90>>: AttributeError: module 'gast' has no attribute 'Num'\n",
      "WARNING:tensorflow:Entity <bound method SqueezedSparseConversion.call of <stellargraph.layer.misc.SqueezedSparseConversion object at 0x13e7419e8>> could not be transformed and will be executed as-is. Please report this to the AutgoGraph team. When filing the bug, set the verbosity to 10 (on Linux, `export AUTOGRAPH_VERBOSITY=10`) and attach the full output. Cause: converting <bound method SqueezedSparseConversion.call of <stellargraph.layer.misc.SqueezedSparseConversion object at 0x13e7419e8>>: AttributeError: module 'gast' has no attribute 'Num'\n",
      "WARNING: Entity <bound method SqueezedSparseConversion.call of <stellargraph.layer.misc.SqueezedSparseConversion object at 0x13e7419e8>> could not be transformed and will be executed as-is. Please report this to the AutgoGraph team. When filing the bug, set the verbosity to 10 (on Linux, `export AUTOGRAPH_VERBOSITY=10`) and attach the full output. Cause: converting <bound method SqueezedSparseConversion.call of <stellargraph.layer.misc.SqueezedSparseConversion object at 0x13e7419e8>>: AttributeError: module 'gast' has no attribute 'Num'\n",
      "WARNING:tensorflow:Entity <bound method SqueezedSparseConversion.call of <stellargraph.layer.misc.SqueezedSparseConversion object at 0x13e7415f8>> could not be transformed and will be executed as-is. Please report this to the AutgoGraph team. When filing the bug, set the verbosity to 10 (on Linux, `export AUTOGRAPH_VERBOSITY=10`) and attach the full output. Cause: converting <bound method SqueezedSparseConversion.call of <stellargraph.layer.misc.SqueezedSparseConversion object at 0x13e7415f8>>: AttributeError: module 'gast' has no attribute 'Num'\n",
      "WARNING: Entity <bound method SqueezedSparseConversion.call of <stellargraph.layer.misc.SqueezedSparseConversion object at 0x13e7415f8>> could not be transformed and will be executed as-is. Please report this to the AutgoGraph team. When filing the bug, set the verbosity to 10 (on Linux, `export AUTOGRAPH_VERBOSITY=10`) and attach the full output. Cause: converting <bound method SqueezedSparseConversion.call of <stellargraph.layer.misc.SqueezedSparseConversion object at 0x13e7415f8>>: AttributeError: module 'gast' has no attribute 'Num'\n",
      "WARNING:tensorflow:Entity <bound method SqueezedSparseConversion.call of <stellargraph.layer.misc.SqueezedSparseConversion object at 0x13e755e80>> could not be transformed and will be executed as-is. Please report this to the AutgoGraph team. When filing the bug, set the verbosity to 10 (on Linux, `export AUTOGRAPH_VERBOSITY=10`) and attach the full output. Cause: converting <bound method SqueezedSparseConversion.call of <stellargraph.layer.misc.SqueezedSparseConversion object at 0x13e755e80>>: AttributeError: module 'gast' has no attribute 'Num'\n",
      "WARNING: Entity <bound method SqueezedSparseConversion.call of <stellargraph.layer.misc.SqueezedSparseConversion object at 0x13e755e80>> could not be transformed and will be executed as-is. Please report this to the AutgoGraph team. When filing the bug, set the verbosity to 10 (on Linux, `export AUTOGRAPH_VERBOSITY=10`) and attach the full output. Cause: converting <bound method SqueezedSparseConversion.call of <stellargraph.layer.misc.SqueezedSparseConversion object at 0x13e755e80>>: AttributeError: module 'gast' has no attribute 'Num'\n",
      "WARNING:tensorflow:Entity <bound method SqueezedSparseConversion.call of <stellargraph.layer.misc.SqueezedSparseConversion object at 0x13e755f28>> could not be transformed and will be executed as-is. Please report this to the AutgoGraph team. When filing the bug, set the verbosity to 10 (on Linux, `export AUTOGRAPH_VERBOSITY=10`) and attach the full output. Cause: converting <bound method SqueezedSparseConversion.call of <stellargraph.layer.misc.SqueezedSparseConversion object at 0x13e755f28>>: AttributeError: module 'gast' has no attribute 'Num'\n",
      "WARNING: Entity <bound method SqueezedSparseConversion.call of <stellargraph.layer.misc.SqueezedSparseConversion object at 0x13e755f28>> could not be transformed and will be executed as-is. Please report this to the AutgoGraph team. When filing the bug, set the verbosity to 10 (on Linux, `export AUTOGRAPH_VERBOSITY=10`) and attach the full output. Cause: converting <bound method SqueezedSparseConversion.call of <stellargraph.layer.misc.SqueezedSparseConversion object at 0x13e755f28>>: AttributeError: module 'gast' has no attribute 'Num'\n",
      "WARNING:tensorflow:Entity <bound method SqueezedSparseConversion.call of <stellargraph.layer.misc.SqueezedSparseConversion object at 0x13e755ac8>> could not be transformed and will be executed as-is. Please report this to the AutgoGraph team. When filing the bug, set the verbosity to 10 (on Linux, `export AUTOGRAPH_VERBOSITY=10`) and attach the full output. Cause: converting <bound method SqueezedSparseConversion.call of <stellargraph.layer.misc.SqueezedSparseConversion object at 0x13e755ac8>>: AttributeError: module 'gast' has no attribute 'Num'\n",
      "WARNING: Entity <bound method SqueezedSparseConversion.call of <stellargraph.layer.misc.SqueezedSparseConversion object at 0x13e755ac8>> could not be transformed and will be executed as-is. Please report this to the AutgoGraph team. When filing the bug, set the verbosity to 10 (on Linux, `export AUTOGRAPH_VERBOSITY=10`) and attach the full output. Cause: converting <bound method SqueezedSparseConversion.call of <stellargraph.layer.misc.SqueezedSparseConversion object at 0x13e755ac8>>: AttributeError: module 'gast' has no attribute 'Num'\n",
      "WARNING:tensorflow:Entity <bound method SqueezedSparseConversion.call of <stellargraph.layer.misc.SqueezedSparseConversion object at 0x13e74ac50>> could not be transformed and will be executed as-is. Please report this to the AutgoGraph team. When filing the bug, set the verbosity to 10 (on Linux, `export AUTOGRAPH_VERBOSITY=10`) and attach the full output. Cause: converting <bound method SqueezedSparseConversion.call of <stellargraph.layer.misc.SqueezedSparseConversion object at 0x13e74ac50>>: AttributeError: module 'gast' has no attribute 'Num'\n",
      "WARNING: Entity <bound method SqueezedSparseConversion.call of <stellargraph.layer.misc.SqueezedSparseConversion object at 0x13e74ac50>> could not be transformed and will be executed as-is. Please report this to the AutgoGraph team. When filing the bug, set the verbosity to 10 (on Linux, `export AUTOGRAPH_VERBOSITY=10`) and attach the full output. Cause: converting <bound method SqueezedSparseConversion.call of <stellargraph.layer.misc.SqueezedSparseConversion object at 0x13e74ac50>>: AttributeError: module 'gast' has no attribute 'Num'\n"
     ]
    },
    {
     "name": "stdout",
     "output_type": "stream",
     "text": [
      "WARNING:tensorflow:Entity <bound method SqueezedSparseConversion.call of <stellargraph.layer.misc.SqueezedSparseConversion object at 0x13e7478d0>> could not be transformed and will be executed as-is. Please report this to the AutgoGraph team. When filing the bug, set the verbosity to 10 (on Linux, `export AUTOGRAPH_VERBOSITY=10`) and attach the full output. Cause: converting <bound method SqueezedSparseConversion.call of <stellargraph.layer.misc.SqueezedSparseConversion object at 0x13e7478d0>>: AttributeError: module 'gast' has no attribute 'Num'\n",
      "WARNING: Entity <bound method SqueezedSparseConversion.call of <stellargraph.layer.misc.SqueezedSparseConversion object at 0x13e7478d0>> could not be transformed and will be executed as-is. Please report this to the AutgoGraph team. When filing the bug, set the verbosity to 10 (on Linux, `export AUTOGRAPH_VERBOSITY=10`) and attach the full output. Cause: converting <bound method SqueezedSparseConversion.call of <stellargraph.layer.misc.SqueezedSparseConversion object at 0x13e7478d0>>: AttributeError: module 'gast' has no attribute 'Num'\n",
      "WARNING:tensorflow:Entity <bound method SqueezedSparseConversion.call of <stellargraph.layer.misc.SqueezedSparseConversion object at 0x13e747390>> could not be transformed and will be executed as-is. Please report this to the AutgoGraph team. When filing the bug, set the verbosity to 10 (on Linux, `export AUTOGRAPH_VERBOSITY=10`) and attach the full output. Cause: converting <bound method SqueezedSparseConversion.call of <stellargraph.layer.misc.SqueezedSparseConversion object at 0x13e747390>>: AttributeError: module 'gast' has no attribute 'Num'\n",
      "WARNING: Entity <bound method SqueezedSparseConversion.call of <stellargraph.layer.misc.SqueezedSparseConversion object at 0x13e747390>> could not be transformed and will be executed as-is. Please report this to the AutgoGraph team. When filing the bug, set the verbosity to 10 (on Linux, `export AUTOGRAPH_VERBOSITY=10`) and attach the full output. Cause: converting <bound method SqueezedSparseConversion.call of <stellargraph.layer.misc.SqueezedSparseConversion object at 0x13e747390>>: AttributeError: module 'gast' has no attribute 'Num'\n",
      "WARNING:tensorflow:Entity <bound method SqueezedSparseConversion.call of <stellargraph.layer.misc.SqueezedSparseConversion object at 0x13e747710>> could not be transformed and will be executed as-is. Please report this to the AutgoGraph team. When filing the bug, set the verbosity to 10 (on Linux, `export AUTOGRAPH_VERBOSITY=10`) and attach the full output. Cause: converting <bound method SqueezedSparseConversion.call of <stellargraph.layer.misc.SqueezedSparseConversion object at 0x13e747710>>: AttributeError: module 'gast' has no attribute 'Num'\n",
      "WARNING: Entity <bound method SqueezedSparseConversion.call of <stellargraph.layer.misc.SqueezedSparseConversion object at 0x13e747710>> could not be transformed and will be executed as-is. Please report this to the AutgoGraph team. When filing the bug, set the verbosity to 10 (on Linux, `export AUTOGRAPH_VERBOSITY=10`) and attach the full output. Cause: converting <bound method SqueezedSparseConversion.call of <stellargraph.layer.misc.SqueezedSparseConversion object at 0x13e747710>>: AttributeError: module 'gast' has no attribute 'Num'\n",
      "WARNING:tensorflow:Entity <bound method SqueezedSparseConversion.call of <stellargraph.layer.misc.SqueezedSparseConversion object at 0x13e747d68>> could not be transformed and will be executed as-is. Please report this to the AutgoGraph team. When filing the bug, set the verbosity to 10 (on Linux, `export AUTOGRAPH_VERBOSITY=10`) and attach the full output. Cause: converting <bound method SqueezedSparseConversion.call of <stellargraph.layer.misc.SqueezedSparseConversion object at 0x13e747d68>>: AttributeError: module 'gast' has no attribute 'Num'\n",
      "WARNING: Entity <bound method SqueezedSparseConversion.call of <stellargraph.layer.misc.SqueezedSparseConversion object at 0x13e747d68>> could not be transformed and will be executed as-is. Please report this to the AutgoGraph team. When filing the bug, set the verbosity to 10 (on Linux, `export AUTOGRAPH_VERBOSITY=10`) and attach the full output. Cause: converting <bound method SqueezedSparseConversion.call of <stellargraph.layer.misc.SqueezedSparseConversion object at 0x13e747d68>>: AttributeError: module 'gast' has no attribute 'Num'\n",
      "WARNING:tensorflow:Entity <bound method SqueezedSparseConversion.call of <stellargraph.layer.misc.SqueezedSparseConversion object at 0x13e749e48>> could not be transformed and will be executed as-is. Please report this to the AutgoGraph team. When filing the bug, set the verbosity to 10 (on Linux, `export AUTOGRAPH_VERBOSITY=10`) and attach the full output. Cause: converting <bound method SqueezedSparseConversion.call of <stellargraph.layer.misc.SqueezedSparseConversion object at 0x13e749e48>>: AttributeError: module 'gast' has no attribute 'Num'\n",
      "WARNING: Entity <bound method SqueezedSparseConversion.call of <stellargraph.layer.misc.SqueezedSparseConversion object at 0x13e749e48>> could not be transformed and will be executed as-is. Please report this to the AutgoGraph team. When filing the bug, set the verbosity to 10 (on Linux, `export AUTOGRAPH_VERBOSITY=10`) and attach the full output. Cause: converting <bound method SqueezedSparseConversion.call of <stellargraph.layer.misc.SqueezedSparseConversion object at 0x13e749e48>>: AttributeError: module 'gast' has no attribute 'Num'\n",
      "WARNING:tensorflow:Entity <bound method SqueezedSparseConversion.call of <stellargraph.layer.misc.SqueezedSparseConversion object at 0x13e749c50>> could not be transformed and will be executed as-is. Please report this to the AutgoGraph team. When filing the bug, set the verbosity to 10 (on Linux, `export AUTOGRAPH_VERBOSITY=10`) and attach the full output. Cause: converting <bound method SqueezedSparseConversion.call of <stellargraph.layer.misc.SqueezedSparseConversion object at 0x13e749c50>>: AttributeError: module 'gast' has no attribute 'Num'\n",
      "WARNING: Entity <bound method SqueezedSparseConversion.call of <stellargraph.layer.misc.SqueezedSparseConversion object at 0x13e749c50>> could not be transformed and will be executed as-is. Please report this to the AutgoGraph team. When filing the bug, set the verbosity to 10 (on Linux, `export AUTOGRAPH_VERBOSITY=10`) and attach the full output. Cause: converting <bound method SqueezedSparseConversion.call of <stellargraph.layer.misc.SqueezedSparseConversion object at 0x13e749c50>>: AttributeError: module 'gast' has no attribute 'Num'\n",
      "WARNING:tensorflow:Entity <bound method SqueezedSparseConversion.call of <stellargraph.layer.misc.SqueezedSparseConversion object at 0x13e78eef0>> could not be transformed and will be executed as-is. Please report this to the AutgoGraph team. When filing the bug, set the verbosity to 10 (on Linux, `export AUTOGRAPH_VERBOSITY=10`) and attach the full output. Cause: converting <bound method SqueezedSparseConversion.call of <stellargraph.layer.misc.SqueezedSparseConversion object at 0x13e78eef0>>: AttributeError: module 'gast' has no attribute 'Num'\n",
      "WARNING: Entity <bound method SqueezedSparseConversion.call of <stellargraph.layer.misc.SqueezedSparseConversion object at 0x13e78eef0>> could not be transformed and will be executed as-is. Please report this to the AutgoGraph team. When filing the bug, set the verbosity to 10 (on Linux, `export AUTOGRAPH_VERBOSITY=10`) and attach the full output. Cause: converting <bound method SqueezedSparseConversion.call of <stellargraph.layer.misc.SqueezedSparseConversion object at 0x13e78eef0>>: AttributeError: module 'gast' has no attribute 'Num'\n",
      "WARNING:tensorflow:Entity <bound method SqueezedSparseConversion.call of <stellargraph.layer.misc.SqueezedSparseConversion object at 0x13e78ea20>> could not be transformed and will be executed as-is. Please report this to the AutgoGraph team. When filing the bug, set the verbosity to 10 (on Linux, `export AUTOGRAPH_VERBOSITY=10`) and attach the full output. Cause: converting <bound method SqueezedSparseConversion.call of <stellargraph.layer.misc.SqueezedSparseConversion object at 0x13e78ea20>>: AttributeError: module 'gast' has no attribute 'Num'\n"
     ]
    },
    {
     "name": "stdout",
     "output_type": "stream",
     "text": [
      "WARNING: Entity <bound method SqueezedSparseConversion.call of <stellargraph.layer.misc.SqueezedSparseConversion object at 0x13e78ea20>> could not be transformed and will be executed as-is. Please report this to the AutgoGraph team. When filing the bug, set the verbosity to 10 (on Linux, `export AUTOGRAPH_VERBOSITY=10`) and attach the full output. Cause: converting <bound method SqueezedSparseConversion.call of <stellargraph.layer.misc.SqueezedSparseConversion object at 0x13e78ea20>>: AttributeError: module 'gast' has no attribute 'Num'\n",
      "WARNING:tensorflow:Entity <bound method SqueezedSparseConversion.call of <stellargraph.layer.misc.SqueezedSparseConversion object at 0x13e78ec50>> could not be transformed and will be executed as-is. Please report this to the AutgoGraph team. When filing the bug, set the verbosity to 10 (on Linux, `export AUTOGRAPH_VERBOSITY=10`) and attach the full output. Cause: converting <bound method SqueezedSparseConversion.call of <stellargraph.layer.misc.SqueezedSparseConversion object at 0x13e78ec50>>: AttributeError: module 'gast' has no attribute 'Num'\n",
      "WARNING: Entity <bound method SqueezedSparseConversion.call of <stellargraph.layer.misc.SqueezedSparseConversion object at 0x13e78ec50>> could not be transformed and will be executed as-is. Please report this to the AutgoGraph team. When filing the bug, set the verbosity to 10 (on Linux, `export AUTOGRAPH_VERBOSITY=10`) and attach the full output. Cause: converting <bound method SqueezedSparseConversion.call of <stellargraph.layer.misc.SqueezedSparseConversion object at 0x13e78ec50>>: AttributeError: module 'gast' has no attribute 'Num'\n",
      "WARNING:tensorflow:Entity <bound method SqueezedSparseConversion.call of <stellargraph.layer.misc.SqueezedSparseConversion object at 0x13e7b44a8>> could not be transformed and will be executed as-is. Please report this to the AutgoGraph team. When filing the bug, set the verbosity to 10 (on Linux, `export AUTOGRAPH_VERBOSITY=10`) and attach the full output. Cause: converting <bound method SqueezedSparseConversion.call of <stellargraph.layer.misc.SqueezedSparseConversion object at 0x13e7b44a8>>: AttributeError: module 'gast' has no attribute 'Num'\n",
      "WARNING: Entity <bound method SqueezedSparseConversion.call of <stellargraph.layer.misc.SqueezedSparseConversion object at 0x13e7b44a8>> could not be transformed and will be executed as-is. Please report this to the AutgoGraph team. When filing the bug, set the verbosity to 10 (on Linux, `export AUTOGRAPH_VERBOSITY=10`) and attach the full output. Cause: converting <bound method SqueezedSparseConversion.call of <stellargraph.layer.misc.SqueezedSparseConversion object at 0x13e7b44a8>>: AttributeError: module 'gast' has no attribute 'Num'\n",
      "WARNING:tensorflow:Entity <bound method SqueezedSparseConversion.call of <stellargraph.layer.misc.SqueezedSparseConversion object at 0x13e7b4470>> could not be transformed and will be executed as-is. Please report this to the AutgoGraph team. When filing the bug, set the verbosity to 10 (on Linux, `export AUTOGRAPH_VERBOSITY=10`) and attach the full output. Cause: converting <bound method SqueezedSparseConversion.call of <stellargraph.layer.misc.SqueezedSparseConversion object at 0x13e7b4470>>: AttributeError: module 'gast' has no attribute 'Num'\n",
      "WARNING: Entity <bound method SqueezedSparseConversion.call of <stellargraph.layer.misc.SqueezedSparseConversion object at 0x13e7b4470>> could not be transformed and will be executed as-is. Please report this to the AutgoGraph team. When filing the bug, set the verbosity to 10 (on Linux, `export AUTOGRAPH_VERBOSITY=10`) and attach the full output. Cause: converting <bound method SqueezedSparseConversion.call of <stellargraph.layer.misc.SqueezedSparseConversion object at 0x13e7b4470>>: AttributeError: module 'gast' has no attribute 'Num'\n",
      "WARNING:tensorflow:Entity <bound method SqueezedSparseConversion.call of <stellargraph.layer.misc.SqueezedSparseConversion object at 0x13e7b4ef0>> could not be transformed and will be executed as-is. Please report this to the AutgoGraph team. When filing the bug, set the verbosity to 10 (on Linux, `export AUTOGRAPH_VERBOSITY=10`) and attach the full output. Cause: converting <bound method SqueezedSparseConversion.call of <stellargraph.layer.misc.SqueezedSparseConversion object at 0x13e7b4ef0>>: AttributeError: module 'gast' has no attribute 'Num'\n",
      "WARNING: Entity <bound method SqueezedSparseConversion.call of <stellargraph.layer.misc.SqueezedSparseConversion object at 0x13e7b4ef0>> could not be transformed and will be executed as-is. Please report this to the AutgoGraph team. When filing the bug, set the verbosity to 10 (on Linux, `export AUTOGRAPH_VERBOSITY=10`) and attach the full output. Cause: converting <bound method SqueezedSparseConversion.call of <stellargraph.layer.misc.SqueezedSparseConversion object at 0x13e7b4ef0>>: AttributeError: module 'gast' has no attribute 'Num'\n",
      "WARNING:tensorflow:Entity <bound method SqueezedSparseConversion.call of <stellargraph.layer.misc.SqueezedSparseConversion object at 0x13e7b4400>> could not be transformed and will be executed as-is. Please report this to the AutgoGraph team. When filing the bug, set the verbosity to 10 (on Linux, `export AUTOGRAPH_VERBOSITY=10`) and attach the full output. Cause: converting <bound method SqueezedSparseConversion.call of <stellargraph.layer.misc.SqueezedSparseConversion object at 0x13e7b4400>>: AttributeError: module 'gast' has no attribute 'Num'\n",
      "WARNING: Entity <bound method SqueezedSparseConversion.call of <stellargraph.layer.misc.SqueezedSparseConversion object at 0x13e7b4400>> could not be transformed and will be executed as-is. Please report this to the AutgoGraph team. When filing the bug, set the verbosity to 10 (on Linux, `export AUTOGRAPH_VERBOSITY=10`) and attach the full output. Cause: converting <bound method SqueezedSparseConversion.call of <stellargraph.layer.misc.SqueezedSparseConversion object at 0x13e7b4400>>: AttributeError: module 'gast' has no attribute 'Num'\n",
      "WARNING:tensorflow:Entity <bound method SqueezedSparseConversion.call of <stellargraph.layer.misc.SqueezedSparseConversion object at 0x13e7d2cf8>> could not be transformed and will be executed as-is. Please report this to the AutgoGraph team. When filing the bug, set the verbosity to 10 (on Linux, `export AUTOGRAPH_VERBOSITY=10`) and attach the full output. Cause: converting <bound method SqueezedSparseConversion.call of <stellargraph.layer.misc.SqueezedSparseConversion object at 0x13e7d2cf8>>: AttributeError: module 'gast' has no attribute 'Num'\n",
      "WARNING: Entity <bound method SqueezedSparseConversion.call of <stellargraph.layer.misc.SqueezedSparseConversion object at 0x13e7d2cf8>> could not be transformed and will be executed as-is. Please report this to the AutgoGraph team. When filing the bug, set the verbosity to 10 (on Linux, `export AUTOGRAPH_VERBOSITY=10`) and attach the full output. Cause: converting <bound method SqueezedSparseConversion.call of <stellargraph.layer.misc.SqueezedSparseConversion object at 0x13e7d2cf8>>: AttributeError: module 'gast' has no attribute 'Num'\n",
      "WARNING:tensorflow:Entity <bound method SqueezedSparseConversion.call of <stellargraph.layer.misc.SqueezedSparseConversion object at 0x13e7cc390>> could not be transformed and will be executed as-is. Please report this to the AutgoGraph team. When filing the bug, set the verbosity to 10 (on Linux, `export AUTOGRAPH_VERBOSITY=10`) and attach the full output. Cause: converting <bound method SqueezedSparseConversion.call of <stellargraph.layer.misc.SqueezedSparseConversion object at 0x13e7cc390>>: AttributeError: module 'gast' has no attribute 'Num'\n",
      "WARNING: Entity <bound method SqueezedSparseConversion.call of <stellargraph.layer.misc.SqueezedSparseConversion object at 0x13e7cc390>> could not be transformed and will be executed as-is. Please report this to the AutgoGraph team. When filing the bug, set the verbosity to 10 (on Linux, `export AUTOGRAPH_VERBOSITY=10`) and attach the full output. Cause: converting <bound method SqueezedSparseConversion.call of <stellargraph.layer.misc.SqueezedSparseConversion object at 0x13e7cc390>>: AttributeError: module 'gast' has no attribute 'Num'\n"
     ]
    },
    {
     "name": "stdout",
     "output_type": "stream",
     "text": [
      "WARNING:tensorflow:Entity <bound method SqueezedSparseConversion.call of <stellargraph.layer.misc.SqueezedSparseConversion object at 0x13e7ccbe0>> could not be transformed and will be executed as-is. Please report this to the AutgoGraph team. When filing the bug, set the verbosity to 10 (on Linux, `export AUTOGRAPH_VERBOSITY=10`) and attach the full output. Cause: converting <bound method SqueezedSparseConversion.call of <stellargraph.layer.misc.SqueezedSparseConversion object at 0x13e7ccbe0>>: AttributeError: module 'gast' has no attribute 'Num'\n",
      "WARNING: Entity <bound method SqueezedSparseConversion.call of <stellargraph.layer.misc.SqueezedSparseConversion object at 0x13e7ccbe0>> could not be transformed and will be executed as-is. Please report this to the AutgoGraph team. When filing the bug, set the verbosity to 10 (on Linux, `export AUTOGRAPH_VERBOSITY=10`) and attach the full output. Cause: converting <bound method SqueezedSparseConversion.call of <stellargraph.layer.misc.SqueezedSparseConversion object at 0x13e7ccbe0>>: AttributeError: module 'gast' has no attribute 'Num'\n",
      "WARNING:tensorflow:Entity <bound method SqueezedSparseConversion.call of <stellargraph.layer.misc.SqueezedSparseConversion object at 0x13e7cc748>> could not be transformed and will be executed as-is. Please report this to the AutgoGraph team. When filing the bug, set the verbosity to 10 (on Linux, `export AUTOGRAPH_VERBOSITY=10`) and attach the full output. Cause: converting <bound method SqueezedSparseConversion.call of <stellargraph.layer.misc.SqueezedSparseConversion object at 0x13e7cc748>>: AttributeError: module 'gast' has no attribute 'Num'\n",
      "WARNING: Entity <bound method SqueezedSparseConversion.call of <stellargraph.layer.misc.SqueezedSparseConversion object at 0x13e7cc748>> could not be transformed and will be executed as-is. Please report this to the AutgoGraph team. When filing the bug, set the verbosity to 10 (on Linux, `export AUTOGRAPH_VERBOSITY=10`) and attach the full output. Cause: converting <bound method SqueezedSparseConversion.call of <stellargraph.layer.misc.SqueezedSparseConversion object at 0x13e7cc748>>: AttributeError: module 'gast' has no attribute 'Num'\n",
      "WARNING:tensorflow:Entity <bound method SqueezedSparseConversion.call of <stellargraph.layer.misc.SqueezedSparseConversion object at 0x13e7d2630>> could not be transformed and will be executed as-is. Please report this to the AutgoGraph team. When filing the bug, set the verbosity to 10 (on Linux, `export AUTOGRAPH_VERBOSITY=10`) and attach the full output. Cause: converting <bound method SqueezedSparseConversion.call of <stellargraph.layer.misc.SqueezedSparseConversion object at 0x13e7d2630>>: AttributeError: module 'gast' has no attribute 'Num'\n",
      "WARNING: Entity <bound method SqueezedSparseConversion.call of <stellargraph.layer.misc.SqueezedSparseConversion object at 0x13e7d2630>> could not be transformed and will be executed as-is. Please report this to the AutgoGraph team. When filing the bug, set the verbosity to 10 (on Linux, `export AUTOGRAPH_VERBOSITY=10`) and attach the full output. Cause: converting <bound method SqueezedSparseConversion.call of <stellargraph.layer.misc.SqueezedSparseConversion object at 0x13e7d2630>>: AttributeError: module 'gast' has no attribute 'Num'\n",
      "WARNING:tensorflow:Entity <bound method SqueezedSparseConversion.call of <stellargraph.layer.misc.SqueezedSparseConversion object at 0x13e7d2a20>> could not be transformed and will be executed as-is. Please report this to the AutgoGraph team. When filing the bug, set the verbosity to 10 (on Linux, `export AUTOGRAPH_VERBOSITY=10`) and attach the full output. Cause: converting <bound method SqueezedSparseConversion.call of <stellargraph.layer.misc.SqueezedSparseConversion object at 0x13e7d2a20>>: AttributeError: module 'gast' has no attribute 'Num'\n",
      "WARNING: Entity <bound method SqueezedSparseConversion.call of <stellargraph.layer.misc.SqueezedSparseConversion object at 0x13e7d2a20>> could not be transformed and will be executed as-is. Please report this to the AutgoGraph team. When filing the bug, set the verbosity to 10 (on Linux, `export AUTOGRAPH_VERBOSITY=10`) and attach the full output. Cause: converting <bound method SqueezedSparseConversion.call of <stellargraph.layer.misc.SqueezedSparseConversion object at 0x13e7d2a20>>: AttributeError: module 'gast' has no attribute 'Num'\n",
      "WARNING:tensorflow:Entity <bound method SqueezedSparseConversion.call of <stellargraph.layer.misc.SqueezedSparseConversion object at 0x13e81c828>> could not be transformed and will be executed as-is. Please report this to the AutgoGraph team. When filing the bug, set the verbosity to 10 (on Linux, `export AUTOGRAPH_VERBOSITY=10`) and attach the full output. Cause: converting <bound method SqueezedSparseConversion.call of <stellargraph.layer.misc.SqueezedSparseConversion object at 0x13e81c828>>: AttributeError: module 'gast' has no attribute 'Num'\n",
      "WARNING: Entity <bound method SqueezedSparseConversion.call of <stellargraph.layer.misc.SqueezedSparseConversion object at 0x13e81c828>> could not be transformed and will be executed as-is. Please report this to the AutgoGraph team. When filing the bug, set the verbosity to 10 (on Linux, `export AUTOGRAPH_VERBOSITY=10`) and attach the full output. Cause: converting <bound method SqueezedSparseConversion.call of <stellargraph.layer.misc.SqueezedSparseConversion object at 0x13e81c828>>: AttributeError: module 'gast' has no attribute 'Num'\n",
      "WARNING:tensorflow:Entity <bound method SqueezedSparseConversion.call of <stellargraph.layer.misc.SqueezedSparseConversion object at 0x13e81cf98>> could not be transformed and will be executed as-is. Please report this to the AutgoGraph team. When filing the bug, set the verbosity to 10 (on Linux, `export AUTOGRAPH_VERBOSITY=10`) and attach the full output. Cause: converting <bound method SqueezedSparseConversion.call of <stellargraph.layer.misc.SqueezedSparseConversion object at 0x13e81cf98>>: AttributeError: module 'gast' has no attribute 'Num'\n",
      "WARNING: Entity <bound method SqueezedSparseConversion.call of <stellargraph.layer.misc.SqueezedSparseConversion object at 0x13e81cf98>> could not be transformed and will be executed as-is. Please report this to the AutgoGraph team. When filing the bug, set the verbosity to 10 (on Linux, `export AUTOGRAPH_VERBOSITY=10`) and attach the full output. Cause: converting <bound method SqueezedSparseConversion.call of <stellargraph.layer.misc.SqueezedSparseConversion object at 0x13e81cf98>>: AttributeError: module 'gast' has no attribute 'Num'\n",
      "WARNING:tensorflow:Entity <bound method SqueezedSparseConversion.call of <stellargraph.layer.misc.SqueezedSparseConversion object at 0x13e80d4a8>> could not be transformed and will be executed as-is. Please report this to the AutgoGraph team. When filing the bug, set the verbosity to 10 (on Linux, `export AUTOGRAPH_VERBOSITY=10`) and attach the full output. Cause: converting <bound method SqueezedSparseConversion.call of <stellargraph.layer.misc.SqueezedSparseConversion object at 0x13e80d4a8>>: AttributeError: module 'gast' has no attribute 'Num'\n",
      "WARNING: Entity <bound method SqueezedSparseConversion.call of <stellargraph.layer.misc.SqueezedSparseConversion object at 0x13e80d4a8>> could not be transformed and will be executed as-is. Please report this to the AutgoGraph team. When filing the bug, set the verbosity to 10 (on Linux, `export AUTOGRAPH_VERBOSITY=10`) and attach the full output. Cause: converting <bound method SqueezedSparseConversion.call of <stellargraph.layer.misc.SqueezedSparseConversion object at 0x13e80d4a8>>: AttributeError: module 'gast' has no attribute 'Num'\n",
      "WARNING:tensorflow:Entity <bound method SqueezedSparseConversion.call of <stellargraph.layer.misc.SqueezedSparseConversion object at 0x13e80d940>> could not be transformed and will be executed as-is. Please report this to the AutgoGraph team. When filing the bug, set the verbosity to 10 (on Linux, `export AUTOGRAPH_VERBOSITY=10`) and attach the full output. Cause: converting <bound method SqueezedSparseConversion.call of <stellargraph.layer.misc.SqueezedSparseConversion object at 0x13e80d940>>: AttributeError: module 'gast' has no attribute 'Num'\n"
     ]
    },
    {
     "name": "stdout",
     "output_type": "stream",
     "text": [
      "WARNING: Entity <bound method SqueezedSparseConversion.call of <stellargraph.layer.misc.SqueezedSparseConversion object at 0x13e80d940>> could not be transformed and will be executed as-is. Please report this to the AutgoGraph team. When filing the bug, set the verbosity to 10 (on Linux, `export AUTOGRAPH_VERBOSITY=10`) and attach the full output. Cause: converting <bound method SqueezedSparseConversion.call of <stellargraph.layer.misc.SqueezedSparseConversion object at 0x13e80d940>>: AttributeError: module 'gast' has no attribute 'Num'\n",
      "WARNING:tensorflow:Entity <bound method SqueezedSparseConversion.call of <stellargraph.layer.misc.SqueezedSparseConversion object at 0x13e80d438>> could not be transformed and will be executed as-is. Please report this to the AutgoGraph team. When filing the bug, set the verbosity to 10 (on Linux, `export AUTOGRAPH_VERBOSITY=10`) and attach the full output. Cause: converting <bound method SqueezedSparseConversion.call of <stellargraph.layer.misc.SqueezedSparseConversion object at 0x13e80d438>>: AttributeError: module 'gast' has no attribute 'Num'\n",
      "WARNING: Entity <bound method SqueezedSparseConversion.call of <stellargraph.layer.misc.SqueezedSparseConversion object at 0x13e80d438>> could not be transformed and will be executed as-is. Please report this to the AutgoGraph team. When filing the bug, set the verbosity to 10 (on Linux, `export AUTOGRAPH_VERBOSITY=10`) and attach the full output. Cause: converting <bound method SqueezedSparseConversion.call of <stellargraph.layer.misc.SqueezedSparseConversion object at 0x13e80d438>>: AttributeError: module 'gast' has no attribute 'Num'\n",
      "WARNING:tensorflow:Entity <bound method SqueezedSparseConversion.call of <stellargraph.layer.misc.SqueezedSparseConversion object at 0x13e7ed080>> could not be transformed and will be executed as-is. Please report this to the AutgoGraph team. When filing the bug, set the verbosity to 10 (on Linux, `export AUTOGRAPH_VERBOSITY=10`) and attach the full output. Cause: converting <bound method SqueezedSparseConversion.call of <stellargraph.layer.misc.SqueezedSparseConversion object at 0x13e7ed080>>: AttributeError: module 'gast' has no attribute 'Num'\n",
      "WARNING: Entity <bound method SqueezedSparseConversion.call of <stellargraph.layer.misc.SqueezedSparseConversion object at 0x13e7ed080>> could not be transformed and will be executed as-is. Please report this to the AutgoGraph team. When filing the bug, set the verbosity to 10 (on Linux, `export AUTOGRAPH_VERBOSITY=10`) and attach the full output. Cause: converting <bound method SqueezedSparseConversion.call of <stellargraph.layer.misc.SqueezedSparseConversion object at 0x13e7ed080>>: AttributeError: module 'gast' has no attribute 'Num'\n",
      "WARNING:tensorflow:Entity <bound method SqueezedSparseConversion.call of <stellargraph.layer.misc.SqueezedSparseConversion object at 0x13e7ed9e8>> could not be transformed and will be executed as-is. Please report this to the AutgoGraph team. When filing the bug, set the verbosity to 10 (on Linux, `export AUTOGRAPH_VERBOSITY=10`) and attach the full output. Cause: converting <bound method SqueezedSparseConversion.call of <stellargraph.layer.misc.SqueezedSparseConversion object at 0x13e7ed9e8>>: AttributeError: module 'gast' has no attribute 'Num'\n",
      "WARNING: Entity <bound method SqueezedSparseConversion.call of <stellargraph.layer.misc.SqueezedSparseConversion object at 0x13e7ed9e8>> could not be transformed and will be executed as-is. Please report this to the AutgoGraph team. When filing the bug, set the verbosity to 10 (on Linux, `export AUTOGRAPH_VERBOSITY=10`) and attach the full output. Cause: converting <bound method SqueezedSparseConversion.call of <stellargraph.layer.misc.SqueezedSparseConversion object at 0x13e7ed9e8>>: AttributeError: module 'gast' has no attribute 'Num'\n",
      "WARNING:tensorflow:Entity <bound method SqueezedSparseConversion.call of <stellargraph.layer.misc.SqueezedSparseConversion object at 0x13e7ed4a8>> could not be transformed and will be executed as-is. Please report this to the AutgoGraph team. When filing the bug, set the verbosity to 10 (on Linux, `export AUTOGRAPH_VERBOSITY=10`) and attach the full output. Cause: converting <bound method SqueezedSparseConversion.call of <stellargraph.layer.misc.SqueezedSparseConversion object at 0x13e7ed4a8>>: AttributeError: module 'gast' has no attribute 'Num'\n",
      "WARNING: Entity <bound method SqueezedSparseConversion.call of <stellargraph.layer.misc.SqueezedSparseConversion object at 0x13e7ed4a8>> could not be transformed and will be executed as-is. Please report this to the AutgoGraph team. When filing the bug, set the verbosity to 10 (on Linux, `export AUTOGRAPH_VERBOSITY=10`) and attach the full output. Cause: converting <bound method SqueezedSparseConversion.call of <stellargraph.layer.misc.SqueezedSparseConversion object at 0x13e7ed4a8>>: AttributeError: module 'gast' has no attribute 'Num'\n",
      "WARNING:tensorflow:Entity <bound method SqueezedSparseConversion.call of <stellargraph.layer.misc.SqueezedSparseConversion object at 0x13e7edbe0>> could not be transformed and will be executed as-is. Please report this to the AutgoGraph team. When filing the bug, set the verbosity to 10 (on Linux, `export AUTOGRAPH_VERBOSITY=10`) and attach the full output. Cause: converting <bound method SqueezedSparseConversion.call of <stellargraph.layer.misc.SqueezedSparseConversion object at 0x13e7edbe0>>: AttributeError: module 'gast' has no attribute 'Num'\n",
      "WARNING: Entity <bound method SqueezedSparseConversion.call of <stellargraph.layer.misc.SqueezedSparseConversion object at 0x13e7edbe0>> could not be transformed and will be executed as-is. Please report this to the AutgoGraph team. When filing the bug, set the verbosity to 10 (on Linux, `export AUTOGRAPH_VERBOSITY=10`) and attach the full output. Cause: converting <bound method SqueezedSparseConversion.call of <stellargraph.layer.misc.SqueezedSparseConversion object at 0x13e7edbe0>>: AttributeError: module 'gast' has no attribute 'Num'\n",
      "WARNING:tensorflow:Entity <bound method SqueezedSparseConversion.call of <stellargraph.layer.misc.SqueezedSparseConversion object at 0x13e846358>> could not be transformed and will be executed as-is. Please report this to the AutgoGraph team. When filing the bug, set the verbosity to 10 (on Linux, `export AUTOGRAPH_VERBOSITY=10`) and attach the full output. Cause: converting <bound method SqueezedSparseConversion.call of <stellargraph.layer.misc.SqueezedSparseConversion object at 0x13e846358>>: AttributeError: module 'gast' has no attribute 'Num'\n",
      "WARNING: Entity <bound method SqueezedSparseConversion.call of <stellargraph.layer.misc.SqueezedSparseConversion object at 0x13e846358>> could not be transformed and will be executed as-is. Please report this to the AutgoGraph team. When filing the bug, set the verbosity to 10 (on Linux, `export AUTOGRAPH_VERBOSITY=10`) and attach the full output. Cause: converting <bound method SqueezedSparseConversion.call of <stellargraph.layer.misc.SqueezedSparseConversion object at 0x13e846358>>: AttributeError: module 'gast' has no attribute 'Num'\n",
      "WARNING:tensorflow:Entity <bound method SqueezedSparseConversion.call of <stellargraph.layer.misc.SqueezedSparseConversion object at 0x13e85f550>> could not be transformed and will be executed as-is. Please report this to the AutgoGraph team. When filing the bug, set the verbosity to 10 (on Linux, `export AUTOGRAPH_VERBOSITY=10`) and attach the full output. Cause: converting <bound method SqueezedSparseConversion.call of <stellargraph.layer.misc.SqueezedSparseConversion object at 0x13e85f550>>: AttributeError: module 'gast' has no attribute 'Num'\n",
      "WARNING: Entity <bound method SqueezedSparseConversion.call of <stellargraph.layer.misc.SqueezedSparseConversion object at 0x13e85f550>> could not be transformed and will be executed as-is. Please report this to the AutgoGraph team. When filing the bug, set the verbosity to 10 (on Linux, `export AUTOGRAPH_VERBOSITY=10`) and attach the full output. Cause: converting <bound method SqueezedSparseConversion.call of <stellargraph.layer.misc.SqueezedSparseConversion object at 0x13e85f550>>: AttributeError: module 'gast' has no attribute 'Num'\n"
     ]
    },
    {
     "name": "stdout",
     "output_type": "stream",
     "text": [
      "WARNING:tensorflow:Entity <bound method RelationalGraphConvolution.call of <stellargraph.layer.rgcn.RelationalGraphConvolution object at 0x13c2ecfd0>> could not be transformed and will be executed as-is. Please report this to the AutgoGraph team. When filing the bug, set the verbosity to 10 (on Linux, `export AUTOGRAPH_VERBOSITY=10`) and attach the full output. Cause: converting <bound method RelationalGraphConvolution.call of <stellargraph.layer.rgcn.RelationalGraphConvolution object at 0x13c2ecfd0>>: AttributeError: module 'gast' has no attribute 'Num'\n",
      "WARNING: Entity <bound method RelationalGraphConvolution.call of <stellargraph.layer.rgcn.RelationalGraphConvolution object at 0x13c2ecfd0>> could not be transformed and will be executed as-is. Please report this to the AutgoGraph team. When filing the bug, set the verbosity to 10 (on Linux, `export AUTOGRAPH_VERBOSITY=10`) and attach the full output. Cause: converting <bound method RelationalGraphConvolution.call of <stellargraph.layer.rgcn.RelationalGraphConvolution object at 0x13c2ecfd0>>: AttributeError: module 'gast' has no attribute 'Num'\n",
      "WARNING:tensorflow:Entity <bound method RelationalGraphConvolution.call of <stellargraph.layer.rgcn.RelationalGraphConvolution object at 0x133fe8fd0>> could not be transformed and will be executed as-is. Please report this to the AutgoGraph team. When filing the bug, set the verbosity to 10 (on Linux, `export AUTOGRAPH_VERBOSITY=10`) and attach the full output. Cause: converting <bound method RelationalGraphConvolution.call of <stellargraph.layer.rgcn.RelationalGraphConvolution object at 0x133fe8fd0>>: AttributeError: module 'gast' has no attribute 'Num'\n",
      "WARNING: Entity <bound method RelationalGraphConvolution.call of <stellargraph.layer.rgcn.RelationalGraphConvolution object at 0x133fe8fd0>> could not be transformed and will be executed as-is. Please report this to the AutgoGraph team. When filing the bug, set the verbosity to 10 (on Linux, `export AUTOGRAPH_VERBOSITY=10`) and attach the full output. Cause: converting <bound method RelationalGraphConvolution.call of <stellargraph.layer.rgcn.RelationalGraphConvolution object at 0x133fe8fd0>>: AttributeError: module 'gast' has no attribute 'Num'\n"
     ]
    }
   ],
   "source": [
    "x_in, x_out = rgcn.node_model()\n",
    "predictions = Dense(train_targets.shape[-1], activation='softmax')(x_out)\n",
    "model = Model(inputs=x_in, outputs=predictions)\n",
    "model.compile(loss='categorical_crossentropy', optimizer=keras.optimizers.Adam(0.01), metrics=['acc'])"
   ]
  },
  {
   "cell_type": "code",
   "execution_count": 26,
   "metadata": {},
   "outputs": [
    {
     "name": "stdout",
     "output_type": "stream",
     "text": [
      "Epoch 1/20\n",
      "WARNING:tensorflow:From /Users/kieranricardo/anaconda3/envs/stellar-demos/lib/python3.6/site-packages/tensorflow/python/ops/math_grad.py:1250: add_dispatch_support.<locals>.wrapper (from tensorflow.python.ops.array_ops) is deprecated and will be removed in a future version.\n",
      "Instructions for updating:\n",
      "Use tf.where in 2.0, which has the same broadcast rule as np.where\n",
      "1/1 [==============================] - 15s 15s/step - loss: 1.6102 - acc: 0.2254\n",
      "Epoch 2/20\n",
      "1/1 [==============================] - 6s 6s/step - loss: 1.5580 - acc: 0.4859\n",
      "Epoch 3/20\n",
      "1/1 [==============================] - 5s 5s/step - loss: 1.4935 - acc: 0.6831\n",
      "Epoch 4/20\n",
      "1/1 [==============================] - 6s 6s/step - loss: 1.3904 - acc: 0.6972\n",
      "Epoch 5/20\n",
      "1/1 [==============================] - 6s 6s/step - loss: 1.2410 - acc: 0.6620\n",
      "Epoch 6/20\n",
      "1/1 [==============================] - 6s 6s/step - loss: 1.0837 - acc: 0.7606\n",
      "Epoch 7/20\n",
      "1/1 [==============================] - 5s 5s/step - loss: 0.8510 - acc: 0.7465\n",
      "Epoch 8/20\n",
      "1/1 [==============================] - 5s 5s/step - loss: 0.8399 - acc: 0.7183\n",
      "Epoch 9/20\n",
      "1/1 [==============================] - 6s 6s/step - loss: 0.6444 - acc: 0.7958\n",
      "Epoch 10/20\n",
      "1/1 [==============================] - 6s 6s/step - loss: 0.5917 - acc: 0.8239\n",
      "Epoch 11/20\n",
      "1/1 [==============================] - 6s 6s/step - loss: 0.5099 - acc: 0.8451\n",
      "Epoch 12/20\n",
      "1/1 [==============================] - 6s 6s/step - loss: 0.5072 - acc: 0.8521\n",
      "Epoch 13/20\n",
      "1/1 [==============================] - 6s 6s/step - loss: 0.4229 - acc: 0.9014\n",
      "Epoch 14/20\n",
      "1/1 [==============================] - 6s 6s/step - loss: 0.3678 - acc: 0.8803\n",
      "Epoch 15/20\n",
      "1/1 [==============================] - 6s 6s/step - loss: 0.3649 - acc: 0.9155\n",
      "Epoch 16/20\n",
      "1/1 [==============================] - 5s 5s/step - loss: 0.4156 - acc: 0.8873\n",
      "Epoch 17/20\n",
      "1/1 [==============================] - 5s 5s/step - loss: 0.2904 - acc: 0.9225\n",
      "Epoch 18/20\n",
      "1/1 [==============================] - 6s 6s/step - loss: 0.2864 - acc: 0.9085\n",
      "Epoch 19/20\n",
      "1/1 [==============================] - 6s 6s/step - loss: 0.2695 - acc: 0.9225\n",
      "Epoch 20/20\n",
      "1/1 [==============================] - 6s 6s/step - loss: 0.2153 - acc: 0.9366\n"
     ]
    },
    {
     "data": {
      "text/plain": [
       "<tensorflow.python.keras.callbacks.History at 0x13ed123c8>"
      ]
     },
     "execution_count": 26,
     "metadata": {},
     "output_type": "execute_result"
    }
   ],
   "source": [
    "model.fit_generator(\n",
    "    train_gen,\n",
    "    epochs=20)"
   ]
  },
  {
   "cell_type": "markdown",
   "metadata": {},
   "source": [
    "Now we assess the accuracy of our trained model on the test set - it does pretty well on this example dataset!"
   ]
  },
  {
   "cell_type": "code",
   "execution_count": 28,
   "metadata": {},
   "outputs": [
    {
     "name": "stdout",
     "output_type": "stream",
     "text": [
      "\n",
      "Test Set Metrics:\n",
      "\tloss: 0.1795\n",
      "\tacc: 0.9722\n"
     ]
    }
   ],
   "source": [
    "test_metrics = model.evaluate_generator(test_gen)\n",
    "print(\"\\nTest Set Metrics:\")\n",
    "for name, val in zip(model.metrics_names, test_metrics):\n",
    "    print(\"\\t{}: {:0.4f}\".format(name, val))"
   ]
  },
  {
   "cell_type": "markdown",
   "metadata": {},
   "source": [
    "## Node embeddings\n",
    "\n",
    "Evaluate node embeddings as activations of the output of the last graph convolution layer in the GCN layer stack and visualise them, coloring nodes by their true subject label. We expect to see nice clusters of papers in the node embedding space, with papers of the same subject belonging to the same cluster.\n",
    "\n",
    "To calculate the node embeddings rather than the class predictions, we create a new model with the same inputs as we used previously `x_inp` but now the output is the embeddings `x_out` rather than the predicted class. Additionally note that the weights trained previously are kept in the new model."
   ]
  },
  {
   "cell_type": "code",
   "execution_count": 34,
   "metadata": {},
   "outputs": [],
   "source": [
    "from sklearn.decomposition import PCA\n",
    "from sklearn.manifold import TSNE\n",
    "\n",
    "# get embeddings for all people nodes\n",
    "all_gen = generator.flow(people_nodes, targets=people_targets)\n",
    "embedding_model = Model(inputs=x_in, outputs=x_out)\n",
    "emb = embedding_model.predict_generator(all_gen)"
   ]
  },
  {
   "cell_type": "code",
   "execution_count": 43,
   "metadata": {},
   "outputs": [],
   "source": [
    "X = emb.squeeze(0)\n",
    "y = np.argmax(people_targets, axis=1)\n",
    "\n",
    "if X.shape[1] > 2:\n",
    "    transform = TSNE #PCA \n",
    "\n",
    "    trans = transform(n_components=2)\n",
    "    emb_transformed = pd.DataFrame(trans.fit_transform(X), index=people_nodes)\n",
    "    emb_transformed['label'] = y\n",
    "else:\n",
    "    emb_transformed = pd.DataFrame(X, index=people_nodes)\n",
    "    emb_transformed = emb_transformed.rename(columns = {'0':0, '1':1})\n",
    "    emb_transformed['label'] = y"
   ]
  },
  {
   "cell_type": "code",
   "execution_count": 44,
   "metadata": {},
   "outputs": [
    {
     "data": {
      "image/png": "[encoded data removed]",
      "text/plain": [
       "<Figure size 504x504 with 1 Axes>"
      ]
     },
     "metadata": {
      "needs_background": "light"
     },
     "output_type": "display_data"
    }
   ],
   "source": [
    "alpha = 0.7\n",
    "\n",
    "fig, ax = plt.subplots(figsize=(7,7))\n",
    "ax.scatter(emb_transformed[0], emb_transformed[1], c=emb_transformed['label'].astype(\"category\"), \n",
    "            cmap=\"jet\", alpha=alpha)\n",
    "ax.set(aspect=\"equal\", xlabel=\"$X_1$\", ylabel=\"$X_2$\")\n",
    "plt.title('{} visualization of GCN embeddings for cora dataset'.format(transform.__name__))\n",
    "plt.show()"
   ]
  },
  {
   "cell_type": "markdown",
   "metadata": {},
   "source": [
    "Aside from a slight overlap in the model the classes are well seperated despite only using 2-dimensions. This indicates that our model is performing well at clustering the researchers into the right groups."
   ]
  }
 ],
 "metadata": {
  "kernelspec": {
   "display_name": "Python 3",
   "language": "python",
   "name": "python3"
  },
  "language_info": {
   "codemirror_mode": {
    "name": "ipython",
    "version": 3
   },
   "file_extension": ".py",
   "mimetype": "text/x-python",
   "name": "python",
   "nbconvert_exporter": "python",
   "pygments_lexer": "ipython3",
   "version": "3.6.9"
  }
 },
 "nbformat": 4,
 "nbformat_minor": 2
}
